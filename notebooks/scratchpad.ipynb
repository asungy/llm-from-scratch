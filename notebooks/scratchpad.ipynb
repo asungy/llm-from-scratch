{
 "cells": [
  {
   "cell_type": "code",
   "execution_count": 3,
   "id": "149bcd29-7c7c-4095-8fce-42c5e91f9b7a",
   "metadata": {},
   "outputs": [],
   "source": [
    "import requests\n",
    "import re\n",
    "\n",
    "url = (\"https://raw.githubusercontent.com/rasbt/\"\n",
    "       \"LLMs-from-scratch/main/ch02/01_main-chapter-code/\"\n",
    "       \"the-verdict.txt\")\n",
    "\n",
    "response = requests.get(url)\n",
    "text_data = response.text"
   ]
  },
  {
   "cell_type": "code",
   "execution_count": 31,
   "id": "83299014-f2fb-4490-b2e7-2813f49a7cd4",
   "metadata": {},
   "outputs": [],
   "source": [
    "class SimpleTokenizerV1:\n",
    "    def __init__(self, raw_data):\n",
    "        # Preprocessing\n",
    "        self.re_tokenizer = r'([,.:;?_!\"()\\']|--|\\s)'\n",
    "        tokenized = re.split(self.re_tokenizer, text_data)\n",
    "        tokenized = [item.strip() for item in tokenized if item.strip()]\n",
    "        \n",
    "        sorted_tokens = sorted(set(tokenized))\n",
    "        self.vocab_to_id = {vocab:index for index, vocab in enumerate(sorted_tokens)}\n",
    "        self.id_to_vocab = {index:vocab for index, vocab in enumerate(sorted_tokens)}\n",
    "        \n",
    "\n",
    "    def encode(self, new_text):\n",
    "        tokenized = re.split(self.re_tokenizer, new_text)\n",
    "        tokenized = [item.strip() for item in tokenized if item.strip()]\n",
    "        return [self.vocab_to_id[s] for s in tokenized]\n",
    "\n",
    "    \n",
    "    def decode(self, ids):\n",
    "        text = \" \".join([self.id_to_vocab[i] for i in ids]) \n",
    "        # Inserting space before the specified puncuation.\n",
    "        return re.sub(r'\\s+([,.?!\"()\\'])', r'\\1', text)"
   ]
  },
  {
   "cell_type": "code",
   "execution_count": 33,
   "id": "ae8fec3f-75ec-41b7-a31d-5b6384a13261",
   "metadata": {},
   "outputs": [
    {
     "data": {
      "text/plain": [
       "'\" It\\' s the last he painted, you know,\" Mrs. Gisburn said with pardonable pride.'"
      ]
     },
     "execution_count": 33,
     "metadata": {},
     "output_type": "execute_result"
    }
   ],
   "source": [
    "tokenizer = SimpleTokenizerV1(vocab)\n",
    "text = \"\"\"\"It's the last he painted, you know,\" \n",
    "       Mrs. Gisburn said with pardonable pride.\"\"\"\n",
    "ids = tokenizer.encode(text)\n",
    "assert(ids == [1, 56, 2, 850, 988, 602, 533, 746, 5, 1126, 596, 5, 1, 67, 7, 38, 851, 1108, 754, 793, 7])\n",
    "tokenizer.decode(ids)"
   ]
  }
 ],
 "metadata": {
  "kernelspec": {
   "display_name": "Python 3 (ipykernel)",
   "language": "python",
   "name": "python3"
  },
  "language_info": {
   "codemirror_mode": {
    "name": "ipython",
    "version": 3
   },
   "file_extension": ".py",
   "mimetype": "text/x-python",
   "name": "python",
   "nbconvert_exporter": "python",
   "pygments_lexer": "ipython3",
   "version": "3.12.11"
  }
 },
 "nbformat": 4,
 "nbformat_minor": 5
}
